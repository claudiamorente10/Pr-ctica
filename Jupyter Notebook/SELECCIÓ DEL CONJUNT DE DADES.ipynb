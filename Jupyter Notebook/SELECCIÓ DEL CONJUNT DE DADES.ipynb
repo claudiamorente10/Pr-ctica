{
 "cells": [
  {
   "cell_type": "code",
   "execution_count": 1,
   "metadata": {},
   "outputs": [],
   "source": [
    "import os\n",
    "import glob\n",
    "import pandas as pd\n",
    "os.chdir(\"C:/master/Pràctica II Visualització/Dataset Pràctica Visualització\")"
   ]
  },
  {
   "cell_type": "code",
   "execution_count": 2,
   "metadata": {},
   "outputs": [],
   "source": [
    "games = pd.read_csv('C:/master/Pràctica II Visualització/Dataset Pràctica Visualització/games.csv')\n",
    "games_details = pd.read_csv('C:/master/Pràctica II Visualització/Dataset Pràctica Visualització/games_details.csv')\n",
    "teams = pd.read_csv('C:/master/Pràctica II Visualització/Dataset Pràctica Visualització/teams.csv')"
   ]
  },
  {
   "cell_type": "code",
   "execution_count": 3,
   "metadata": {},
   "outputs": [
    {
     "name": "stdout",
     "output_type": "stream",
     "text": [
      "Games dataset shape: (24677, 21)\n",
      "Games_Details dataset shape: (615626, 28)\n",
      "Teams dataset shape: (30, 14)\n"
     ]
    }
   ],
   "source": [
    "print('Games dataset shape:', games.shape)\n",
    "print('Games_Details dataset shape:', games_details.shape)\n",
    "print('Teams dataset shape:', teams.shape)"
   ]
  },
  {
   "cell_type": "code",
   "execution_count": 4,
   "metadata": {},
   "outputs": [
    {
     "data": {
      "text/html": [
       "<div>\n",
       "<style scoped>\n",
       "    .dataframe tbody tr th:only-of-type {\n",
       "        vertical-align: middle;\n",
       "    }\n",
       "\n",
       "    .dataframe tbody tr th {\n",
       "        vertical-align: top;\n",
       "    }\n",
       "\n",
       "    .dataframe thead th {\n",
       "        text-align: right;\n",
       "    }\n",
       "</style>\n",
       "<table border=\"1\" class=\"dataframe\">\n",
       "  <thead>\n",
       "    <tr style=\"text-align: right;\">\n",
       "      <th></th>\n",
       "      <th>GAME_DATE_EST</th>\n",
       "      <th>GAME_ID</th>\n",
       "      <th>GAME_STATUS_TEXT</th>\n",
       "      <th>HOME_TEAM_ID</th>\n",
       "      <th>VISITOR_TEAM_ID</th>\n",
       "      <th>SEASON</th>\n",
       "      <th>TEAM_ID_home</th>\n",
       "      <th>PTS_home</th>\n",
       "      <th>FG_PCT_home</th>\n",
       "      <th>FT_PCT_home</th>\n",
       "      <th>...</th>\n",
       "      <th>OREB</th>\n",
       "      <th>DREB</th>\n",
       "      <th>REB</th>\n",
       "      <th>AST</th>\n",
       "      <th>STL</th>\n",
       "      <th>BLK</th>\n",
       "      <th>TO</th>\n",
       "      <th>PF</th>\n",
       "      <th>PTS</th>\n",
       "      <th>PLUS_MINUS</th>\n",
       "    </tr>\n",
       "  </thead>\n",
       "  <tbody>\n",
       "    <tr>\n",
       "      <th>0</th>\n",
       "      <td>2021-05-26</td>\n",
       "      <td>42000102</td>\n",
       "      <td>Final</td>\n",
       "      <td>1610612755</td>\n",
       "      <td>1610612764</td>\n",
       "      <td>2020</td>\n",
       "      <td>1610612755</td>\n",
       "      <td>120.0</td>\n",
       "      <td>0.557</td>\n",
       "      <td>0.684</td>\n",
       "      <td>...</td>\n",
       "      <td>0.0</td>\n",
       "      <td>4.0</td>\n",
       "      <td>4.0</td>\n",
       "      <td>3.0</td>\n",
       "      <td>1.0</td>\n",
       "      <td>0.0</td>\n",
       "      <td>1.0</td>\n",
       "      <td>0.0</td>\n",
       "      <td>33.0</td>\n",
       "      <td>-22.0</td>\n",
       "    </tr>\n",
       "    <tr>\n",
       "      <th>1</th>\n",
       "      <td>2021-05-26</td>\n",
       "      <td>42000102</td>\n",
       "      <td>Final</td>\n",
       "      <td>1610612755</td>\n",
       "      <td>1610612764</td>\n",
       "      <td>2020</td>\n",
       "      <td>1610612755</td>\n",
       "      <td>120.0</td>\n",
       "      <td>0.557</td>\n",
       "      <td>0.684</td>\n",
       "      <td>...</td>\n",
       "      <td>2.0</td>\n",
       "      <td>5.0</td>\n",
       "      <td>7.0</td>\n",
       "      <td>1.0</td>\n",
       "      <td>0.0</td>\n",
       "      <td>0.0</td>\n",
       "      <td>3.0</td>\n",
       "      <td>4.0</td>\n",
       "      <td>11.0</td>\n",
       "      <td>-6.0</td>\n",
       "    </tr>\n",
       "    <tr>\n",
       "      <th>2</th>\n",
       "      <td>2021-05-26</td>\n",
       "      <td>42000102</td>\n",
       "      <td>Final</td>\n",
       "      <td>1610612755</td>\n",
       "      <td>1610612764</td>\n",
       "      <td>2020</td>\n",
       "      <td>1610612755</td>\n",
       "      <td>120.0</td>\n",
       "      <td>0.557</td>\n",
       "      <td>0.684</td>\n",
       "      <td>...</td>\n",
       "      <td>3.0</td>\n",
       "      <td>2.0</td>\n",
       "      <td>5.0</td>\n",
       "      <td>0.0</td>\n",
       "      <td>1.0</td>\n",
       "      <td>0.0</td>\n",
       "      <td>0.0</td>\n",
       "      <td>2.0</td>\n",
       "      <td>6.0</td>\n",
       "      <td>-11.0</td>\n",
       "    </tr>\n",
       "    <tr>\n",
       "      <th>3</th>\n",
       "      <td>2021-05-26</td>\n",
       "      <td>42000102</td>\n",
       "      <td>Final</td>\n",
       "      <td>1610612755</td>\n",
       "      <td>1610612764</td>\n",
       "      <td>2020</td>\n",
       "      <td>1610612755</td>\n",
       "      <td>120.0</td>\n",
       "      <td>0.557</td>\n",
       "      <td>0.684</td>\n",
       "      <td>...</td>\n",
       "      <td>1.0</td>\n",
       "      <td>2.0</td>\n",
       "      <td>3.0</td>\n",
       "      <td>1.0</td>\n",
       "      <td>0.0</td>\n",
       "      <td>0.0</td>\n",
       "      <td>0.0</td>\n",
       "      <td>2.0</td>\n",
       "      <td>4.0</td>\n",
       "      <td>-17.0</td>\n",
       "    </tr>\n",
       "    <tr>\n",
       "      <th>4</th>\n",
       "      <td>2021-05-26</td>\n",
       "      <td>42000102</td>\n",
       "      <td>Final</td>\n",
       "      <td>1610612755</td>\n",
       "      <td>1610612764</td>\n",
       "      <td>2020</td>\n",
       "      <td>1610612755</td>\n",
       "      <td>120.0</td>\n",
       "      <td>0.557</td>\n",
       "      <td>0.684</td>\n",
       "      <td>...</td>\n",
       "      <td>2.0</td>\n",
       "      <td>4.0</td>\n",
       "      <td>6.0</td>\n",
       "      <td>11.0</td>\n",
       "      <td>0.0</td>\n",
       "      <td>0.0</td>\n",
       "      <td>4.0</td>\n",
       "      <td>0.0</td>\n",
       "      <td>10.0</td>\n",
       "      <td>-16.0</td>\n",
       "    </tr>\n",
       "  </tbody>\n",
       "</table>\n",
       "<p>5 rows × 48 columns</p>\n",
       "</div>"
      ],
      "text/plain": [
       "  GAME_DATE_EST   GAME_ID GAME_STATUS_TEXT  HOME_TEAM_ID  VISITOR_TEAM_ID  \\\n",
       "0    2021-05-26  42000102            Final    1610612755       1610612764   \n",
       "1    2021-05-26  42000102            Final    1610612755       1610612764   \n",
       "2    2021-05-26  42000102            Final    1610612755       1610612764   \n",
       "3    2021-05-26  42000102            Final    1610612755       1610612764   \n",
       "4    2021-05-26  42000102            Final    1610612755       1610612764   \n",
       "\n",
       "   SEASON  TEAM_ID_home  PTS_home  FG_PCT_home  FT_PCT_home  ...  OREB  DREB  \\\n",
       "0    2020    1610612755     120.0        0.557        0.684  ...   0.0   4.0   \n",
       "1    2020    1610612755     120.0        0.557        0.684  ...   2.0   5.0   \n",
       "2    2020    1610612755     120.0        0.557        0.684  ...   3.0   2.0   \n",
       "3    2020    1610612755     120.0        0.557        0.684  ...   1.0   2.0   \n",
       "4    2020    1610612755     120.0        0.557        0.684  ...   2.0   4.0   \n",
       "\n",
       "   REB   AST  STL  BLK   TO   PF   PTS  PLUS_MINUS  \n",
       "0  4.0   3.0  1.0  0.0  1.0  0.0  33.0       -22.0  \n",
       "1  7.0   1.0  0.0  0.0  3.0  4.0  11.0        -6.0  \n",
       "2  5.0   0.0  1.0  0.0  0.0  2.0   6.0       -11.0  \n",
       "3  3.0   1.0  0.0  0.0  0.0  2.0   4.0       -17.0  \n",
       "4  6.0  11.0  0.0  0.0  4.0  0.0  10.0       -16.0  \n",
       "\n",
       "[5 rows x 48 columns]"
      ]
     },
     "execution_count": 4,
     "metadata": {},
     "output_type": "execute_result"
    }
   ],
   "source": [
    "GAMES = pd.merge(games, games_details)\n",
    "GAMES.head()"
   ]
  },
  {
   "cell_type": "code",
   "execution_count": 5,
   "metadata": {
    "scrolled": false
   },
   "outputs": [
    {
     "data": {
      "text/html": [
       "<div>\n",
       "<style scoped>\n",
       "    .dataframe tbody tr th:only-of-type {\n",
       "        vertical-align: middle;\n",
       "    }\n",
       "\n",
       "    .dataframe tbody tr th {\n",
       "        vertical-align: top;\n",
       "    }\n",
       "\n",
       "    .dataframe thead th {\n",
       "        text-align: right;\n",
       "    }\n",
       "</style>\n",
       "<table border=\"1\" class=\"dataframe\">\n",
       "  <thead>\n",
       "    <tr style=\"text-align: right;\">\n",
       "      <th></th>\n",
       "      <th>GAME_DATE_EST</th>\n",
       "      <th>GAME_ID</th>\n",
       "      <th>GAME_STATUS_TEXT</th>\n",
       "      <th>HOME_TEAM_ID</th>\n",
       "      <th>VISITOR_TEAM_ID</th>\n",
       "      <th>SEASON</th>\n",
       "      <th>TEAM_ID_home</th>\n",
       "      <th>PTS_home</th>\n",
       "      <th>FG_PCT_home</th>\n",
       "      <th>FT_PCT_home</th>\n",
       "      <th>...</th>\n",
       "      <th>ABBREVIATION</th>\n",
       "      <th>NICKNAME</th>\n",
       "      <th>YEARFOUNDED</th>\n",
       "      <th>CITY</th>\n",
       "      <th>ARENA</th>\n",
       "      <th>ARENACAPACITY</th>\n",
       "      <th>OWNER</th>\n",
       "      <th>GENERALMANAGER</th>\n",
       "      <th>HEADCOACH</th>\n",
       "      <th>DLEAGUEAFFILIATION</th>\n",
       "    </tr>\n",
       "  </thead>\n",
       "  <tbody>\n",
       "    <tr>\n",
       "      <th>0</th>\n",
       "      <td>2021-05-26</td>\n",
       "      <td>42000102</td>\n",
       "      <td>Final</td>\n",
       "      <td>1610612755</td>\n",
       "      <td>1610612764</td>\n",
       "      <td>2020</td>\n",
       "      <td>1610612755</td>\n",
       "      <td>120.0</td>\n",
       "      <td>0.557</td>\n",
       "      <td>0.684</td>\n",
       "      <td>...</td>\n",
       "      <td>WAS</td>\n",
       "      <td>Wizards</td>\n",
       "      <td>1961</td>\n",
       "      <td>Washington</td>\n",
       "      <td>Capital One Arena</td>\n",
       "      <td>20647.0</td>\n",
       "      <td>Ted Leonsis</td>\n",
       "      <td>Tommy Sheppard</td>\n",
       "      <td>Scott Brooks</td>\n",
       "      <td>Capital City Go-Go</td>\n",
       "    </tr>\n",
       "    <tr>\n",
       "      <th>1</th>\n",
       "      <td>2021-05-26</td>\n",
       "      <td>42000102</td>\n",
       "      <td>Final</td>\n",
       "      <td>1610612755</td>\n",
       "      <td>1610612764</td>\n",
       "      <td>2020</td>\n",
       "      <td>1610612755</td>\n",
       "      <td>120.0</td>\n",
       "      <td>0.557</td>\n",
       "      <td>0.684</td>\n",
       "      <td>...</td>\n",
       "      <td>WAS</td>\n",
       "      <td>Wizards</td>\n",
       "      <td>1961</td>\n",
       "      <td>Washington</td>\n",
       "      <td>Capital One Arena</td>\n",
       "      <td>20647.0</td>\n",
       "      <td>Ted Leonsis</td>\n",
       "      <td>Tommy Sheppard</td>\n",
       "      <td>Scott Brooks</td>\n",
       "      <td>Capital City Go-Go</td>\n",
       "    </tr>\n",
       "    <tr>\n",
       "      <th>2</th>\n",
       "      <td>2021-05-26</td>\n",
       "      <td>42000102</td>\n",
       "      <td>Final</td>\n",
       "      <td>1610612755</td>\n",
       "      <td>1610612764</td>\n",
       "      <td>2020</td>\n",
       "      <td>1610612755</td>\n",
       "      <td>120.0</td>\n",
       "      <td>0.557</td>\n",
       "      <td>0.684</td>\n",
       "      <td>...</td>\n",
       "      <td>WAS</td>\n",
       "      <td>Wizards</td>\n",
       "      <td>1961</td>\n",
       "      <td>Washington</td>\n",
       "      <td>Capital One Arena</td>\n",
       "      <td>20647.0</td>\n",
       "      <td>Ted Leonsis</td>\n",
       "      <td>Tommy Sheppard</td>\n",
       "      <td>Scott Brooks</td>\n",
       "      <td>Capital City Go-Go</td>\n",
       "    </tr>\n",
       "    <tr>\n",
       "      <th>3</th>\n",
       "      <td>2021-05-26</td>\n",
       "      <td>42000102</td>\n",
       "      <td>Final</td>\n",
       "      <td>1610612755</td>\n",
       "      <td>1610612764</td>\n",
       "      <td>2020</td>\n",
       "      <td>1610612755</td>\n",
       "      <td>120.0</td>\n",
       "      <td>0.557</td>\n",
       "      <td>0.684</td>\n",
       "      <td>...</td>\n",
       "      <td>WAS</td>\n",
       "      <td>Wizards</td>\n",
       "      <td>1961</td>\n",
       "      <td>Washington</td>\n",
       "      <td>Capital One Arena</td>\n",
       "      <td>20647.0</td>\n",
       "      <td>Ted Leonsis</td>\n",
       "      <td>Tommy Sheppard</td>\n",
       "      <td>Scott Brooks</td>\n",
       "      <td>Capital City Go-Go</td>\n",
       "    </tr>\n",
       "    <tr>\n",
       "      <th>4</th>\n",
       "      <td>2021-05-26</td>\n",
       "      <td>42000102</td>\n",
       "      <td>Final</td>\n",
       "      <td>1610612755</td>\n",
       "      <td>1610612764</td>\n",
       "      <td>2020</td>\n",
       "      <td>1610612755</td>\n",
       "      <td>120.0</td>\n",
       "      <td>0.557</td>\n",
       "      <td>0.684</td>\n",
       "      <td>...</td>\n",
       "      <td>WAS</td>\n",
       "      <td>Wizards</td>\n",
       "      <td>1961</td>\n",
       "      <td>Washington</td>\n",
       "      <td>Capital One Arena</td>\n",
       "      <td>20647.0</td>\n",
       "      <td>Ted Leonsis</td>\n",
       "      <td>Tommy Sheppard</td>\n",
       "      <td>Scott Brooks</td>\n",
       "      <td>Capital City Go-Go</td>\n",
       "    </tr>\n",
       "  </tbody>\n",
       "</table>\n",
       "<p>5 rows × 61 columns</p>\n",
       "</div>"
      ],
      "text/plain": [
       "  GAME_DATE_EST   GAME_ID GAME_STATUS_TEXT  HOME_TEAM_ID  VISITOR_TEAM_ID  \\\n",
       "0    2021-05-26  42000102            Final    1610612755       1610612764   \n",
       "1    2021-05-26  42000102            Final    1610612755       1610612764   \n",
       "2    2021-05-26  42000102            Final    1610612755       1610612764   \n",
       "3    2021-05-26  42000102            Final    1610612755       1610612764   \n",
       "4    2021-05-26  42000102            Final    1610612755       1610612764   \n",
       "\n",
       "   SEASON  TEAM_ID_home  PTS_home  FG_PCT_home  FT_PCT_home  ...  \\\n",
       "0    2020    1610612755     120.0        0.557        0.684  ...   \n",
       "1    2020    1610612755     120.0        0.557        0.684  ...   \n",
       "2    2020    1610612755     120.0        0.557        0.684  ...   \n",
       "3    2020    1610612755     120.0        0.557        0.684  ...   \n",
       "4    2020    1610612755     120.0        0.557        0.684  ...   \n",
       "\n",
       "   ABBREVIATION  NICKNAME  YEARFOUNDED        CITY              ARENA  \\\n",
       "0           WAS   Wizards         1961  Washington  Capital One Arena   \n",
       "1           WAS   Wizards         1961  Washington  Capital One Arena   \n",
       "2           WAS   Wizards         1961  Washington  Capital One Arena   \n",
       "3           WAS   Wizards         1961  Washington  Capital One Arena   \n",
       "4           WAS   Wizards         1961  Washington  Capital One Arena   \n",
       "\n",
       "   ARENACAPACITY        OWNER  GENERALMANAGER     HEADCOACH  \\\n",
       "0        20647.0  Ted Leonsis  Tommy Sheppard  Scott Brooks   \n",
       "1        20647.0  Ted Leonsis  Tommy Sheppard  Scott Brooks   \n",
       "2        20647.0  Ted Leonsis  Tommy Sheppard  Scott Brooks   \n",
       "3        20647.0  Ted Leonsis  Tommy Sheppard  Scott Brooks   \n",
       "4        20647.0  Ted Leonsis  Tommy Sheppard  Scott Brooks   \n",
       "\n",
       "   DLEAGUEAFFILIATION  \n",
       "0  Capital City Go-Go  \n",
       "1  Capital City Go-Go  \n",
       "2  Capital City Go-Go  \n",
       "3  Capital City Go-Go  \n",
       "4  Capital City Go-Go  \n",
       "\n",
       "[5 rows x 61 columns]"
      ]
     },
     "execution_count": 5,
     "metadata": {},
     "output_type": "execute_result"
    }
   ],
   "source": [
    "NBA_GAMES = pd.merge(GAMES, teams)\n",
    "\n",
    "NBA_GAMES.head()"
   ]
  },
  {
   "cell_type": "code",
   "execution_count": 6,
   "metadata": {},
   "outputs": [
    {
     "data": {
      "text/plain": [
       "Index(['GAME_DATE_EST', 'GAME_ID', 'GAME_STATUS_TEXT', 'HOME_TEAM_ID',\n",
       "       'VISITOR_TEAM_ID', 'SEASON', 'TEAM_ID_home', 'PTS_home', 'FG_PCT_home',\n",
       "       'FT_PCT_home', 'FG3_PCT_home', 'AST_home', 'REB_home', 'TEAM_ID_away',\n",
       "       'PTS_away', 'FG_PCT_away', 'FT_PCT_away', 'FG3_PCT_away', 'AST_away',\n",
       "       'REB_away', 'HOME_TEAM_WINS', 'TEAM_ID', 'TEAM_ABBREVIATION',\n",
       "       'TEAM_CITY', 'PLAYER_ID', 'PLAYER_NAME', 'START_POSITION', 'COMMENT',\n",
       "       'MIN', 'FGM', 'FGA', 'FG_PCT', 'FG3M', 'FG3A', 'FG3_PCT', 'FTM', 'FTA',\n",
       "       'FT_PCT', 'OREB', 'DREB', 'REB', 'AST', 'STL', 'BLK', 'TO', 'PF', 'PTS',\n",
       "       'PLUS_MINUS', 'LEAGUE_ID', 'MIN_YEAR', 'MAX_YEAR', 'ABBREVIATION',\n",
       "       'NICKNAME', 'YEARFOUNDED', 'CITY', 'ARENA', 'ARENACAPACITY', 'OWNER',\n",
       "       'GENERALMANAGER', 'HEADCOACH', 'DLEAGUEAFFILIATION'],\n",
       "      dtype='object')"
      ]
     },
     "execution_count": 6,
     "metadata": {},
     "output_type": "execute_result"
    }
   ],
   "source": [
    "NBA_GAMES.columns"
   ]
  },
  {
   "cell_type": "code",
   "execution_count": 7,
   "metadata": {},
   "outputs": [
    {
     "data": {
      "text/plain": [
       "(617392, 61)"
      ]
     },
     "execution_count": 7,
     "metadata": {},
     "output_type": "execute_result"
    }
   ],
   "source": [
    "NBA_GAMES.shape"
   ]
  },
  {
   "cell_type": "code",
   "execution_count": 8,
   "metadata": {},
   "outputs": [],
   "source": [
    "NBA_GAMES.drop('GAME_STATUS_TEXT', inplace=True, axis=1)\n",
    "NBA_GAMES.drop('SEASON', inplace=True, axis=1)\n",
    "NBA_GAMES.drop('TEAM_ID_home', inplace=True, axis=1)\n",
    "NBA_GAMES.drop('HOME_TEAM_WINS', inplace=True, axis=1)\n",
    "NBA_GAMES.drop('TEAM_ID', inplace=True, axis=1)\n",
    "NBA_GAMES.drop('TEAM_CITY', inplace=True, axis=1)\n",
    "NBA_GAMES.drop('PLAYER_ID', inplace=True, axis=1)\n",
    "NBA_GAMES.drop('PLAYER_NAME', inplace=True, axis=1)\n",
    "NBA_GAMES.drop('START_POSITION', inplace=True, axis=1)\n",
    "NBA_GAMES.drop('COMMENT', inplace=True, axis=1)\n",
    "NBA_GAMES.drop('MIN', inplace=True, axis=1)\n",
    "NBA_GAMES.drop('FGM', inplace=True, axis=1)\n",
    "NBA_GAMES.drop('FGA', inplace=True, axis=1)\n",
    "NBA_GAMES.drop('FG_PCT', inplace=True, axis=1)\n",
    "NBA_GAMES.drop('FG3M', inplace=True, axis=1)\n",
    "NBA_GAMES.drop('FG3A', inplace=True, axis=1)\n",
    "NBA_GAMES.drop('FG3_PCT', inplace=True, axis=1)\n",
    "NBA_GAMES.drop('FTM', inplace=True, axis=1)\n",
    "NBA_GAMES.drop('FTA', inplace=True, axis=1)\n",
    "NBA_GAMES.drop('FT_PCT', inplace=True, axis=1)\n",
    "NBA_GAMES.drop('OREB', inplace=True, axis=1)\n",
    "NBA_GAMES.drop('DREB', inplace=True, axis=1)\n",
    "NBA_GAMES.drop('REB', inplace=True, axis=1)\n",
    "NBA_GAMES.drop('AST', inplace=True, axis=1)\n",
    "NBA_GAMES.drop('STL', inplace=True, axis=1)\n",
    "NBA_GAMES.drop('BLK', inplace=True, axis=1)\n",
    "NBA_GAMES.drop('TO', inplace=True, axis=1)\n",
    "NBA_GAMES.drop('PF', inplace=True, axis=1)\n",
    "NBA_GAMES.drop('PTS', inplace=True, axis=1)\n",
    "NBA_GAMES.drop('PLUS_MINUS', inplace=True, axis=1)\n",
    "NBA_GAMES.drop('LEAGUE_ID', inplace=True, axis=1)\n",
    "NBA_GAMES.drop('MIN_YEAR', inplace=True, axis=1)\n",
    "NBA_GAMES.drop('MAX_YEAR', inplace=True, axis=1)\n",
    "NBA_GAMES.drop('ABBREVIATION', inplace=True, axis=1)\n",
    "NBA_GAMES.drop('ARENA', inplace=True, axis=1)\n",
    "NBA_GAMES.drop('ARENACAPACITY', inplace=True, axis=1)\n",
    "NBA_GAMES.drop('OWNER', inplace=True, axis=1)\n",
    "NBA_GAMES.drop('GENERALMANAGER', inplace=True, axis=1)\n",
    "NBA_GAMES.drop('HEADCOACH', inplace=True, axis=1)\n",
    "NBA_GAMES.drop('DLEAGUEAFFILIATION', inplace=True, axis=1)"
   ]
  },
  {
   "cell_type": "code",
   "execution_count": 9,
   "metadata": {},
   "outputs": [
    {
     "data": {
      "text/plain": [
       "Index(['GAME_DATE_EST', 'GAME_ID', 'HOME_TEAM_ID', 'VISITOR_TEAM_ID',\n",
       "       'PTS_home', 'FG_PCT_home', 'FT_PCT_home', 'FG3_PCT_home', 'AST_home',\n",
       "       'REB_home', 'TEAM_ID_away', 'PTS_away', 'FG_PCT_away', 'FT_PCT_away',\n",
       "       'FG3_PCT_away', 'AST_away', 'REB_away', 'TEAM_ABBREVIATION', 'NICKNAME',\n",
       "       'YEARFOUNDED', 'CITY'],\n",
       "      dtype='object')"
      ]
     },
     "execution_count": 9,
     "metadata": {},
     "output_type": "execute_result"
    }
   ],
   "source": [
    "NBA_GAMES.columns"
   ]
  },
  {
   "cell_type": "code",
   "execution_count": 10,
   "metadata": {
    "scrolled": true
   },
   "outputs": [
    {
     "data": {
      "text/plain": [
       "(617392, 21)"
      ]
     },
     "execution_count": 10,
     "metadata": {},
     "output_type": "execute_result"
    }
   ],
   "source": [
    "NBA_GAMES.shape"
   ]
  },
  {
   "cell_type": "code",
   "execution_count": 11,
   "metadata": {},
   "outputs": [],
   "source": [
    "NBA_GAMES.to_csv('C:/master/Pràctica II Visualització/NBA_GAMES.csv', index=False, header=True)"
   ]
  },
  {
   "cell_type": "code",
   "execution_count": 12,
   "metadata": {},
   "outputs": [
    {
     "data": {
      "text/plain": [
       "False"
      ]
     },
     "execution_count": 12,
     "metadata": {},
     "output_type": "execute_result"
    }
   ],
   "source": [
    "NBA_GAMES.isnull().values.any()"
   ]
  },
  {
   "cell_type": "code",
   "execution_count": 13,
   "metadata": {},
   "outputs": [
    {
     "data": {
      "text/plain": [
       "array(['Wizards', '76ers', 'Hawks', 'Knicks', 'Grizzlies', 'Jazz',\n",
       "       'Celtics', 'Nets', 'Lakers', 'Suns', 'Mavericks', 'Clippers',\n",
       "       'Heat', 'Bucks', 'Trail Blazers', 'Nuggets', 'Warriors', 'Pacers',\n",
       "       'Spurs', 'Hornets', 'Raptors', 'Rockets', 'Cavaliers', 'Magic',\n",
       "       'Pistons', 'Bulls', 'Timberwolves', 'Pelicans', 'Thunder', 'Kings'],\n",
       "      dtype=object)"
      ]
     },
     "execution_count": 13,
     "metadata": {},
     "output_type": "execute_result"
    }
   ],
   "source": [
    "NBA_GAMES['NICKNAME'].unique()"
   ]
  },
  {
   "cell_type": "code",
   "execution_count": 14,
   "metadata": {},
   "outputs": [
    {
     "data": {
      "text/plain": [
       "'2021-05-26'"
      ]
     },
     "execution_count": 14,
     "metadata": {},
     "output_type": "execute_result"
    }
   ],
   "source": [
    "max(NBA_GAMES['GAME_DATE_EST'])"
   ]
  },
  {
   "cell_type": "code",
   "execution_count": 15,
   "metadata": {},
   "outputs": [
    {
     "data": {
      "text/plain": [
       "'2003-10-05'"
      ]
     },
     "execution_count": 15,
     "metadata": {},
     "output_type": "execute_result"
    }
   ],
   "source": [
    "min(NBA_GAMES['GAME_DATE_EST'])"
   ]
  },
  {
   "cell_type": "code",
   "execution_count": 16,
   "metadata": {
    "scrolled": false
   },
   "outputs": [
    {
     "name": "stdout",
     "output_type": "stream",
     "text": [
      "<class 'pandas.core.frame.DataFrame'>\n",
      "Int64Index: 617392 entries, 0 to 617391\n",
      "Data columns (total 21 columns):\n",
      " #   Column             Non-Null Count   Dtype  \n",
      "---  ------             --------------   -----  \n",
      " 0   GAME_DATE_EST      617392 non-null  object \n",
      " 1   GAME_ID            617392 non-null  int64  \n",
      " 2   HOME_TEAM_ID       617392 non-null  int64  \n",
      " 3   VISITOR_TEAM_ID    617392 non-null  int64  \n",
      " 4   PTS_home           617392 non-null  float64\n",
      " 5   FG_PCT_home        617392 non-null  float64\n",
      " 6   FT_PCT_home        617392 non-null  float64\n",
      " 7   FG3_PCT_home       617392 non-null  float64\n",
      " 8   AST_home           617392 non-null  float64\n",
      " 9   REB_home           617392 non-null  float64\n",
      " 10  TEAM_ID_away       617392 non-null  int64  \n",
      " 11  PTS_away           617392 non-null  float64\n",
      " 12  FG_PCT_away        617392 non-null  float64\n",
      " 13  FT_PCT_away        617392 non-null  float64\n",
      " 14  FG3_PCT_away       617392 non-null  float64\n",
      " 15  AST_away           617392 non-null  float64\n",
      " 16  REB_away           617392 non-null  float64\n",
      " 17  TEAM_ABBREVIATION  617392 non-null  object \n",
      " 18  NICKNAME           617392 non-null  object \n",
      " 19  YEARFOUNDED        617392 non-null  int64  \n",
      " 20  CITY               617392 non-null  object \n",
      "dtypes: float64(12), int64(5), object(4)\n",
      "memory usage: 103.6+ MB\n"
     ]
    }
   ],
   "source": [
    "NBA_GAMES.info()"
   ]
  },
  {
   "cell_type": "code",
   "execution_count": 17,
   "metadata": {},
   "outputs": [],
   "source": [
    "NBA_GAMES['GAME_DATE_EST'] = pd.to_datetime(NBA_GAMES['GAME_DATE_EST'])"
   ]
  },
  {
   "cell_type": "code",
   "execution_count": 18,
   "metadata": {},
   "outputs": [],
   "source": [
    "NBA_GAMES['YEAR'] = pd.DatetimeIndex(NBA_GAMES['GAME_DATE_EST']).year"
   ]
  },
  {
   "cell_type": "code",
   "execution_count": 19,
   "metadata": {},
   "outputs": [
    {
     "data": {
      "text/plain": [
       "(617392, 22)"
      ]
     },
     "execution_count": 19,
     "metadata": {},
     "output_type": "execute_result"
    }
   ],
   "source": [
    "NBA_GAMES.shape"
   ]
  },
  {
   "cell_type": "code",
   "execution_count": 20,
   "metadata": {},
   "outputs": [
    {
     "data": {
      "text/html": [
       "<div>\n",
       "<style scoped>\n",
       "    .dataframe tbody tr th:only-of-type {\n",
       "        vertical-align: middle;\n",
       "    }\n",
       "\n",
       "    .dataframe tbody tr th {\n",
       "        vertical-align: top;\n",
       "    }\n",
       "\n",
       "    .dataframe thead th {\n",
       "        text-align: right;\n",
       "    }\n",
       "</style>\n",
       "<table border=\"1\" class=\"dataframe\">\n",
       "  <thead>\n",
       "    <tr style=\"text-align: right;\">\n",
       "      <th></th>\n",
       "      <th>GAME_DATE_EST</th>\n",
       "      <th>GAME_ID</th>\n",
       "      <th>HOME_TEAM_ID</th>\n",
       "      <th>VISITOR_TEAM_ID</th>\n",
       "      <th>PTS_home</th>\n",
       "      <th>FG_PCT_home</th>\n",
       "      <th>FT_PCT_home</th>\n",
       "      <th>FG3_PCT_home</th>\n",
       "      <th>AST_home</th>\n",
       "      <th>REB_home</th>\n",
       "      <th>...</th>\n",
       "      <th>FG_PCT_away</th>\n",
       "      <th>FT_PCT_away</th>\n",
       "      <th>FG3_PCT_away</th>\n",
       "      <th>AST_away</th>\n",
       "      <th>REB_away</th>\n",
       "      <th>TEAM_ABBREVIATION</th>\n",
       "      <th>NICKNAME</th>\n",
       "      <th>YEARFOUNDED</th>\n",
       "      <th>CITY</th>\n",
       "      <th>YEAR</th>\n",
       "    </tr>\n",
       "  </thead>\n",
       "  <tbody>\n",
       "    <tr>\n",
       "      <th>0</th>\n",
       "      <td>2021-05-26</td>\n",
       "      <td>42000102</td>\n",
       "      <td>1610612755</td>\n",
       "      <td>1610612764</td>\n",
       "      <td>120.0</td>\n",
       "      <td>0.557</td>\n",
       "      <td>0.684</td>\n",
       "      <td>0.429</td>\n",
       "      <td>26.0</td>\n",
       "      <td>45.0</td>\n",
       "      <td>...</td>\n",
       "      <td>0.402</td>\n",
       "      <td>0.633</td>\n",
       "      <td>0.091</td>\n",
       "      <td>22.0</td>\n",
       "      <td>40.0</td>\n",
       "      <td>WAS</td>\n",
       "      <td>Wizards</td>\n",
       "      <td>1961</td>\n",
       "      <td>Washington</td>\n",
       "      <td>2021</td>\n",
       "    </tr>\n",
       "    <tr>\n",
       "      <th>1</th>\n",
       "      <td>2021-05-26</td>\n",
       "      <td>42000102</td>\n",
       "      <td>1610612755</td>\n",
       "      <td>1610612764</td>\n",
       "      <td>120.0</td>\n",
       "      <td>0.557</td>\n",
       "      <td>0.684</td>\n",
       "      <td>0.429</td>\n",
       "      <td>26.0</td>\n",
       "      <td>45.0</td>\n",
       "      <td>...</td>\n",
       "      <td>0.402</td>\n",
       "      <td>0.633</td>\n",
       "      <td>0.091</td>\n",
       "      <td>22.0</td>\n",
       "      <td>40.0</td>\n",
       "      <td>WAS</td>\n",
       "      <td>Wizards</td>\n",
       "      <td>1961</td>\n",
       "      <td>Washington</td>\n",
       "      <td>2021</td>\n",
       "    </tr>\n",
       "  </tbody>\n",
       "</table>\n",
       "<p>2 rows × 22 columns</p>\n",
       "</div>"
      ],
      "text/plain": [
       "  GAME_DATE_EST   GAME_ID  HOME_TEAM_ID  VISITOR_TEAM_ID  PTS_home  \\\n",
       "0    2021-05-26  42000102    1610612755       1610612764     120.0   \n",
       "1    2021-05-26  42000102    1610612755       1610612764     120.0   \n",
       "\n",
       "   FG_PCT_home  FT_PCT_home  FG3_PCT_home  AST_home  REB_home  ...  \\\n",
       "0        0.557        0.684         0.429      26.0      45.0  ...   \n",
       "1        0.557        0.684         0.429      26.0      45.0  ...   \n",
       "\n",
       "   FG_PCT_away  FT_PCT_away  FG3_PCT_away  AST_away  REB_away  \\\n",
       "0        0.402        0.633         0.091      22.0      40.0   \n",
       "1        0.402        0.633         0.091      22.0      40.0   \n",
       "\n",
       "   TEAM_ABBREVIATION  NICKNAME YEARFOUNDED        CITY  YEAR  \n",
       "0                WAS   Wizards        1961  Washington  2021  \n",
       "1                WAS   Wizards        1961  Washington  2021  \n",
       "\n",
       "[2 rows x 22 columns]"
      ]
     },
     "execution_count": 20,
     "metadata": {},
     "output_type": "execute_result"
    }
   ],
   "source": [
    "NBA_GAMES.head(2)"
   ]
  },
  {
   "cell_type": "code",
   "execution_count": 21,
   "metadata": {},
   "outputs": [
    {
     "data": {
      "text/html": [
       "<div>\n",
       "<style scoped>\n",
       "    .dataframe tbody tr th:only-of-type {\n",
       "        vertical-align: middle;\n",
       "    }\n",
       "\n",
       "    .dataframe tbody tr th {\n",
       "        vertical-align: top;\n",
       "    }\n",
       "\n",
       "    .dataframe thead th {\n",
       "        text-align: right;\n",
       "    }\n",
       "</style>\n",
       "<table border=\"1\" class=\"dataframe\">\n",
       "  <thead>\n",
       "    <tr style=\"text-align: right;\">\n",
       "      <th></th>\n",
       "      <th>GAME_DATE_EST</th>\n",
       "      <th>GAME_ID</th>\n",
       "      <th>HOME_TEAM_ID</th>\n",
       "      <th>VISITOR_TEAM_ID</th>\n",
       "      <th>PTS_home</th>\n",
       "      <th>FG_PCT_home</th>\n",
       "      <th>FT_PCT_home</th>\n",
       "      <th>FG3_PCT_home</th>\n",
       "      <th>AST_home</th>\n",
       "      <th>REB_home</th>\n",
       "      <th>...</th>\n",
       "      <th>FG_PCT_away</th>\n",
       "      <th>FT_PCT_away</th>\n",
       "      <th>FG3_PCT_away</th>\n",
       "      <th>AST_away</th>\n",
       "      <th>REB_away</th>\n",
       "      <th>TEAM_ABBREVIATION</th>\n",
       "      <th>NICKNAME</th>\n",
       "      <th>YEARFOUNDED</th>\n",
       "      <th>CITY</th>\n",
       "      <th>YEAR</th>\n",
       "    </tr>\n",
       "  </thead>\n",
       "  <tbody>\n",
       "    <tr>\n",
       "      <th>0</th>\n",
       "      <td>2021-05-26</td>\n",
       "      <td>42000102</td>\n",
       "      <td>1610612755</td>\n",
       "      <td>1610612764</td>\n",
       "      <td>120.0</td>\n",
       "      <td>0.557</td>\n",
       "      <td>0.684</td>\n",
       "      <td>0.429</td>\n",
       "      <td>26.0</td>\n",
       "      <td>45.0</td>\n",
       "      <td>...</td>\n",
       "      <td>0.402</td>\n",
       "      <td>0.633</td>\n",
       "      <td>0.091</td>\n",
       "      <td>22.0</td>\n",
       "      <td>40.0</td>\n",
       "      <td>WAS</td>\n",
       "      <td>Wizards</td>\n",
       "      <td>1961</td>\n",
       "      <td>Washington</td>\n",
       "      <td>2021</td>\n",
       "    </tr>\n",
       "    <tr>\n",
       "      <th>1</th>\n",
       "      <td>2021-05-26</td>\n",
       "      <td>42000102</td>\n",
       "      <td>1610612755</td>\n",
       "      <td>1610612764</td>\n",
       "      <td>120.0</td>\n",
       "      <td>0.557</td>\n",
       "      <td>0.684</td>\n",
       "      <td>0.429</td>\n",
       "      <td>26.0</td>\n",
       "      <td>45.0</td>\n",
       "      <td>...</td>\n",
       "      <td>0.402</td>\n",
       "      <td>0.633</td>\n",
       "      <td>0.091</td>\n",
       "      <td>22.0</td>\n",
       "      <td>40.0</td>\n",
       "      <td>WAS</td>\n",
       "      <td>Wizards</td>\n",
       "      <td>1961</td>\n",
       "      <td>Washington</td>\n",
       "      <td>2021</td>\n",
       "    </tr>\n",
       "  </tbody>\n",
       "</table>\n",
       "<p>2 rows × 22 columns</p>\n",
       "</div>"
      ],
      "text/plain": [
       "  GAME_DATE_EST   GAME_ID  HOME_TEAM_ID  VISITOR_TEAM_ID  PTS_home  \\\n",
       "0    2021-05-26  42000102    1610612755       1610612764     120.0   \n",
       "1    2021-05-26  42000102    1610612755       1610612764     120.0   \n",
       "\n",
       "   FG_PCT_home  FT_PCT_home  FG3_PCT_home  AST_home  REB_home  ...  \\\n",
       "0        0.557        0.684         0.429      26.0      45.0  ...   \n",
       "1        0.557        0.684         0.429      26.0      45.0  ...   \n",
       "\n",
       "   FG_PCT_away  FT_PCT_away  FG3_PCT_away  AST_away  REB_away  \\\n",
       "0        0.402        0.633         0.091      22.0      40.0   \n",
       "1        0.402        0.633         0.091      22.0      40.0   \n",
       "\n",
       "   TEAM_ABBREVIATION  NICKNAME YEARFOUNDED        CITY  YEAR  \n",
       "0                WAS   Wizards        1961  Washington  2021  \n",
       "1                WAS   Wizards        1961  Washington  2021  \n",
       "\n",
       "[2 rows x 22 columns]"
      ]
     },
     "execution_count": 21,
     "metadata": {},
     "output_type": "execute_result"
    }
   ],
   "source": [
    "NBA = NBA_GAMES[NBA_GAMES['YEAR'] >= 2019]\n",
    "NBA.head(2)"
   ]
  },
  {
   "cell_type": "code",
   "execution_count": 22,
   "metadata": {},
   "outputs": [
    {
     "data": {
      "text/plain": [
       "(84830, 22)"
      ]
     },
     "execution_count": 22,
     "metadata": {},
     "output_type": "execute_result"
    }
   ],
   "source": [
    "NBA.shape"
   ]
  },
  {
   "cell_type": "code",
   "execution_count": 23,
   "metadata": {},
   "outputs": [
    {
     "data": {
      "text/plain": [
       "34295"
      ]
     },
     "execution_count": 23,
     "metadata": {},
     "output_type": "execute_result"
    }
   ],
   "source": [
    "len(NBA[NBA['YEAR'] == 2019])"
   ]
  },
  {
   "cell_type": "code",
   "execution_count": 24,
   "metadata": {},
   "outputs": [
    {
     "data": {
      "text/plain": [
       "22541"
      ]
     },
     "execution_count": 24,
     "metadata": {},
     "output_type": "execute_result"
    }
   ],
   "source": [
    "len(NBA[NBA['YEAR'] == 2020])"
   ]
  },
  {
   "cell_type": "code",
   "execution_count": 25,
   "metadata": {},
   "outputs": [
    {
     "data": {
      "text/plain": [
       "27994"
      ]
     },
     "execution_count": 25,
     "metadata": {},
     "output_type": "execute_result"
    }
   ],
   "source": [
    "len(NBA[NBA['YEAR'] == 2021])"
   ]
  },
  {
   "cell_type": "code",
   "execution_count": 27,
   "metadata": {},
   "outputs": [],
   "source": [
    "NBA.to_csv('C:/master/Pràctica II Visualització/NBA.csv', index=False, header=True)"
   ]
  }
 ],
 "metadata": {
  "kernelspec": {
   "display_name": "Python 3",
   "language": "python",
   "name": "python3"
  },
  "language_info": {
   "codemirror_mode": {
    "name": "ipython",
    "version": 3
   },
   "file_extension": ".py",
   "mimetype": "text/x-python",
   "name": "python",
   "nbconvert_exporter": "python",
   "pygments_lexer": "ipython3",
   "version": "3.8.5"
  }
 },
 "nbformat": 4,
 "nbformat_minor": 4
}
